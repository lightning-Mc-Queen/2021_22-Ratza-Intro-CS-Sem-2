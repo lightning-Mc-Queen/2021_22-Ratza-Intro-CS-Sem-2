{
  "nbformat": 4,
  "nbformat_minor": 0,
  "metadata": {
    "colab": {
      "name": "JONAH ANDREWS - Copy of python_basics_assignment.ipynb",
      "provenance": [],
      "collapsed_sections": [],
      "include_colab_link": true
    },
    "kernelspec": {
      "name": "python3",
      "display_name": "Python 3"
    },
    "language_info": {
      "name": "python"
    }
  },
  "cells": [
    {
      "cell_type": "markdown",
      "metadata": {
        "id": "view-in-github",
        "colab_type": "text"
      },
      "source": [
        "<a href=\"https://colab.research.google.com/github/lightning-Mc-Queen/2021_22-Ratza-Intro-CS-Sem-2/blob/main/Sprint-1-Python-Basics/02python_basics_assignment.ipynb\" target=\"_parent\"><img src=\"https://colab.research.google.com/assets/colab-badge.svg\" alt=\"Open In Colab\"/></a>"
      ]
    },
    {
      "cell_type": "markdown",
      "source": [
        "### Key Terms\n",
        "\n",
        "Complete the following questions to solidify you're understanding of the key concepts. Feel free to use the lecture notebook or any other resources to help you, but do not copy and paste answers from the internet instead use your own words to present your understanding.\n",
        "\n",
        "----"
      ],
      "metadata": {
        "id": "2cOCCaF6Q4ys"
      }
    },
    {
      "cell_type": "markdown",
      "source": [
        "What is a general use programming language? a coding language that can be used to do many things"
      ],
      "metadata": {
        "id": "e_bDYmbjRHNc"
      }
    },
    {
      "cell_type": "markdown",
      "source": [
        ""
      ],
      "metadata": {
        "id": "ROigjjFsRHKB"
      }
    },
    {
      "cell_type": "markdown",
      "source": [
        "Who invented Python and when? guido van rossum 1991"
      ],
      "metadata": {
        "id": "X4j6a8y4RHGG"
      }
    },
    {
      "cell_type": "markdown",
      "source": [
        ""
      ],
      "metadata": {
        "id": "B5WWUhgXRHDt"
      }
    },
    {
      "cell_type": "markdown",
      "source": [
        "What is the difference between front-end and back-end? the front end is the part you directly interact with and the back end you usually dont interact with"
      ],
      "metadata": {
        "id": "RHkgvf39RHBm"
      }
    },
    {
      "cell_type": "markdown",
      "source": [
        ""
      ],
      "metadata": {
        "id": "cl7LFD3pRG_H"
      }
    },
    {
      "cell_type": "markdown",
      "source": [
        "What is a GUI? a Graphical User Interface"
      ],
      "metadata": {
        "id": "oTkkpwhVRG80"
      }
    },
    {
      "cell_type": "markdown",
      "source": [
        ""
      ],
      "metadata": {
        "id": "aoVSrA67RG6D"
      }
    },
    {
      "cell_type": "markdown",
      "source": [
        "What is an API? an API is an Application Programming Interface"
      ],
      "metadata": {
        "id": "nHjQwFW1RG4C"
      }
    },
    {
      "cell_type": "markdown",
      "source": [
        ""
      ],
      "metadata": {
        "id": "0A6LKX_5RG1x"
      }
    },
    {
      "cell_type": "markdown",
      "source": [
        "What is Open Source Software? Open source software is software that antbody can change. its a good way to improve your software through the community."
      ],
      "metadata": {
        "id": "RWzJmW61RGzR"
      }
    },
    {
      "cell_type": "markdown",
      "source": [
        ""
      ],
      "metadata": {
        "id": "J8Lcpl46RGwu"
      }
    },
    {
      "cell_type": "markdown",
      "source": [
        "What is a development environment? its a tool that lets you mess with stuff without actually touching it"
      ],
      "metadata": {
        "id": "gob_Rgp8RGqT"
      }
    },
    {
      "cell_type": "markdown",
      "source": [
        ""
      ],
      "metadata": {
        "id": "BCPeV2UCRGZm"
      }
    },
    {
      "cell_type": "markdown",
      "source": [
        "What is meant by local and remote in the context of computers? local stuff is the things on your computer where remote is things on other things like servers."
      ],
      "metadata": {
        "id": "lKduQMuWSYoC"
      }
    },
    {
      "cell_type": "markdown",
      "source": [
        ""
      ],
      "metadata": {
        "id": "GcJMiJjFSfO2"
      }
    },
    {
      "cell_type": "markdown",
      "source": [
        "What is an operating system? the way you interact with your computer."
      ],
      "metadata": {
        "id": "cb6Coc48Sgev"
      }
    },
    {
      "cell_type": "markdown",
      "source": [
        ""
      ],
      "metadata": {
        "id": "586kJGbvSlw5"
      }
    },
    {
      "cell_type": "markdown",
      "source": [
        "What is a kernel? the lowest level. it has complete control over the hardware and is always in the memory."
      ],
      "metadata": {
        "id": "7tRiStzGSltk"
      }
    },
    {
      "cell_type": "markdown",
      "source": [
        ""
      ],
      "metadata": {
        "id": "jp5g1ZgWSlq6"
      }
    },
    {
      "cell_type": "markdown",
      "source": [
        "What is a shell? the thing you use to code like snap or anaconda"
      ],
      "metadata": {
        "id": "WdOAakQJSloH"
      }
    },
    {
      "cell_type": "markdown",
      "source": [
        ""
      ],
      "metadata": {
        "id": "Gpaic8JSSlle"
      }
    },
    {
      "cell_type": "markdown",
      "source": [
        "What shell do we have access to in Colab notebooks? jupyter notebooks"
      ],
      "metadata": {
        "id": "hn5QICK0Slio"
      }
    },
    {
      "cell_type": "markdown",
      "source": [
        ""
      ],
      "metadata": {
        "id": "vYRb0JJXSlfx"
      }
    },
    {
      "cell_type": "markdown",
      "source": [
        "What is an interpreter? the thing that runs the code"
      ],
      "metadata": {
        "id": "dmgmzh-ISldB"
      }
    },
    {
      "cell_type": "markdown",
      "source": [
        ""
      ],
      "metadata": {
        "id": "Y79bP4GLS3bI"
      }
    },
    {
      "cell_type": "markdown",
      "source": [
        "What is a value in programming? an input that can be saved"
      ],
      "metadata": {
        "id": "A2q30j02S3G3"
      }
    },
    {
      "cell_type": "markdown",
      "source": [
        ""
      ],
      "metadata": {
        "id": "ilES-rT6S9vm"
      }
    },
    {
      "cell_type": "markdown",
      "source": [
        "What is an expression in programming? a group of values that are intended to make a new value."
      ],
      "metadata": {
        "id": "KI34llQnS--5"
      }
    },
    {
      "cell_type": "markdown",
      "source": [
        ""
      ],
      "metadata": {
        "id": "VHXYGhIcTBw9"
      }
    },
    {
      "cell_type": "markdown",
      "source": [
        "What is syntax? computer grammar"
      ],
      "metadata": {
        "id": "pmKFicLMTCcD"
      }
    },
    {
      "cell_type": "markdown",
      "source": [
        ""
      ],
      "metadata": {
        "id": "sqCxeE2TTKvy"
      }
    },
    {
      "cell_type": "markdown",
      "source": [
        "What do we call the process of discovering and resolving errors? debugging"
      ],
      "metadata": {
        "id": "B8m5jqm6TLHE"
      }
    },
    {
      "cell_type": "markdown",
      "source": [
        ""
      ],
      "metadata": {
        "id": "0TozR78oTRK4"
      }
    },
    {
      "cell_type": "markdown",
      "source": [
        "### Code"
      ],
      "metadata": {
        "id": "OJR_RDQpTRyR"
      }
    },
    {
      "cell_type": "markdown",
      "source": [
        "Let's revisit some of the things we practiced in the lecture. In the code cell below print your name to the console without first declaring it as a variable."
      ],
      "metadata": {
        "id": "zPvODBfiTWCP"
      }
    },
    {
      "cell_type": "code",
      "source": [
        "print(\"Jonah\")"
      ],
      "metadata": {
        "id": "mZb-v_UwTO7B"
      },
      "execution_count": null,
      "outputs": []
    },
    {
      "cell_type": "markdown",
      "source": [
        "Now declare your first name and last name as separate variables and combine them in the print statement."
      ],
      "metadata": {
        "id": "sZPksnwpTnTD"
      }
    },
    {
      "cell_type": "code",
      "source": [
        "print(first_name + last_name)"
      ],
      "metadata": {
        "id": "oqmZRhYLTztw",
        "colab": {
          "base_uri": "https://localhost:8080/"
        },
        "outputId": "5ed395d9-9731-4bb8-ee33-333887445e6a"
      },
      "execution_count": null,
      "outputs": [
        {
          "output_type": "stream",
          "name": "stdout",
          "text": [
            "JonahAndrews\n"
          ]
        }
      ]
    },
    {
      "cell_type": "markdown",
      "source": [
        "In the cell below run the \"Zen of Python\" easter egg."
      ],
      "metadata": {
        "id": "cNe3K4WZT2_0"
      }
    },
    {
      "cell_type": "code",
      "source": [
        "import this"
      ],
      "metadata": {
        "id": "FSkN7Q52UKyU",
        "colab": {
          "base_uri": "https://localhost:8080/"
        },
        "outputId": "f37faed4-19fd-4f23-e8ac-8492a13332ba"
      },
      "execution_count": null,
      "outputs": [
        {
          "output_type": "stream",
          "name": "stdout",
          "text": [
            "The Zen of Python, by Tim Peters\n",
            "\n",
            "Beautiful is better than ugly.\n",
            "Explicit is better than implicit.\n",
            "Simple is better than complex.\n",
            "Complex is better than complicated.\n",
            "Flat is better than nested.\n",
            "Sparse is better than dense.\n",
            "Readability counts.\n",
            "Special cases aren't special enough to break the rules.\n",
            "Although practicality beats purity.\n",
            "Errors should never pass silently.\n",
            "Unless explicitly silenced.\n",
            "In the face of ambiguity, refuse the temptation to guess.\n",
            "There should be one-- and preferably only one --obvious way to do it.\n",
            "Although that way may not be obvious at first unless you're Dutch.\n",
            "Now is better than never.\n",
            "Although never is often better than *right* now.\n",
            "If the implementation is hard to explain, it's a bad idea.\n",
            "If the implementation is easy to explain, it may be a good idea.\n",
            "Namespaces are one honking great idea -- let's do more of those!\n"
          ]
        }
      ]
    },
    {
      "cell_type": "markdown",
      "source": [
        "### Explore"
      ],
      "metadata": {
        "id": "2ADI5kQAUMLI"
      }
    },
    {
      "cell_type": "markdown",
      "source": [
        "This portion of the assignment contains things we didn't explicitly cover in the lecture, instead encouraging you to explore and experiment on your own to discover some of the different operators and expressions in Python. For each expression first describe what you expect to happen before running the code cell.\n",
        "\n",
        "Documentation for Python's numeric operators can be found [here](https://docs.python.org/3.10/library/stdtypes.html#numeric-types-int-float-complex)"
      ],
      "metadata": {
        "id": "vchHFmicUOid"
      }
    },
    {
      "cell_type": "markdown",
      "source": [
        "#### `5 + 2 * 2`\n",
        "\n",
        "What do you expect to happen?"
      ],
      "metadata": {
        "id": "_lTiBbJMU28S"
      }
    },
    {
      "cell_type": "markdown",
      "source": [
        "the answer will be 9"
      ],
      "metadata": {
        "id": "P6-diOTwU_ir"
      }
    },
    {
      "cell_type": "code",
      "source": [
        "5 + 2 * 2"
      ],
      "metadata": {
        "id": "ALTC2aYRUNRe",
        "colab": {
          "base_uri": "https://localhost:8080/"
        },
        "outputId": "4a08d008-2955-4e6d-93f9-270ab7646542"
      },
      "execution_count": null,
      "outputs": [
        {
          "output_type": "execute_result",
          "data": {
            "text/plain": [
              "9"
            ]
          },
          "metadata": {},
          "execution_count": 9
        }
      ]
    },
    {
      "cell_type": "markdown",
      "source": [
        "#### `2 / 3`\n",
        "\n",
        "What do you expect to happen?"
      ],
      "metadata": {
        "id": "zSMDH8osVEEN"
      }
    },
    {
      "cell_type": "markdown",
      "source": [
        "the answer will be .6"
      ],
      "metadata": {
        "id": "MJ_mZbouVI9_"
      }
    },
    {
      "cell_type": "code",
      "source": [
        "2/3"
      ],
      "metadata": {
        "id": "FYMUlyCEVHD1",
        "colab": {
          "base_uri": "https://localhost:8080/"
        },
        "outputId": "52c9129d-f2f9-4e5b-f266-ec42745808f2"
      },
      "execution_count": null,
      "outputs": [
        {
          "output_type": "execute_result",
          "data": {
            "text/plain": [
              "0.6666666666666666"
            ]
          },
          "metadata": {},
          "execution_count": 10
        }
      ]
    },
    {
      "cell_type": "markdown",
      "source": [
        "#### `2.5 * 10`\n",
        "\n",
        "What do you expect to happen?"
      ],
      "metadata": {
        "id": "c8LQrbNQVIID"
      }
    },
    {
      "cell_type": "markdown",
      "source": [
        "the answer will be 25"
      ],
      "metadata": {
        "id": "J1Ts7WLEVPU-"
      }
    },
    {
      "cell_type": "code",
      "source": [
        "2.5*10"
      ],
      "metadata": {
        "id": "IuE7GclzVOpO",
        "colab": {
          "base_uri": "https://localhost:8080/"
        },
        "outputId": "fc57233d-fd28-4506-b6a3-1dd0df40c1a2"
      },
      "execution_count": null,
      "outputs": [
        {
          "output_type": "execute_result",
          "data": {
            "text/plain": [
              "25.0"
            ]
          },
          "metadata": {},
          "execution_count": 11
        }
      ]
    },
    {
      "cell_type": "markdown",
      "source": [
        "#### `a`\n",
        "\n",
        "What do you expect to happen?"
      ],
      "metadata": {
        "id": "YfKfY31nVSfy"
      }
    },
    {
      "cell_type": "markdown",
      "source": [
        "an error"
      ],
      "metadata": {
        "id": "Y_FQACtgVVL8"
      }
    },
    {
      "cell_type": "code",
      "source": [
        "a"
      ],
      "metadata": {
        "id": "pukzPvzXVUgM",
        "colab": {
          "base_uri": "https://localhost:8080/",
          "height": 165
        },
        "outputId": "9bc0d775-b043-41c1-b730-213e6584a1cd"
      },
      "execution_count": null,
      "outputs": [
        {
          "output_type": "error",
          "ename": "NameError",
          "evalue": "ignored",
          "traceback": [
            "\u001b[0;31m---------------------------------------------------------------------------\u001b[0m",
            "\u001b[0;31mNameError\u001b[0m                                 Traceback (most recent call last)",
            "\u001b[0;32m<ipython-input-12-3f786850e387>\u001b[0m in \u001b[0;36m<module>\u001b[0;34m()\u001b[0m\n\u001b[0;32m----> 1\u001b[0;31m \u001b[0ma\u001b[0m\u001b[0;34m\u001b[0m\u001b[0;34m\u001b[0m\u001b[0m\n\u001b[0m",
            "\u001b[0;31mNameError\u001b[0m: name 'a' is not defined"
          ]
        }
      ]
    },
    {
      "cell_type": "markdown",
      "source": [
        "#### `'a'`\n",
        "\n",
        "\n",
        "What do you expect to happen?"
      ],
      "metadata": {
        "id": "x_G2qoXLVhVj"
      }
    },
    {
      "cell_type": "markdown",
      "source": [
        "it will print a"
      ],
      "metadata": {
        "id": "IjTY1xn_VoB4"
      }
    },
    {
      "cell_type": "code",
      "source": [
        "'a'"
      ],
      "metadata": {
        "id": "e0PEkzRHVjVo",
        "colab": {
          "base_uri": "https://localhost:8080/",
          "height": 35
        },
        "outputId": "371f119b-0836-4421-f148-6cf860eacc94"
      },
      "execution_count": null,
      "outputs": [
        {
          "output_type": "execute_result",
          "data": {
            "application/vnd.google.colaboratory.intrinsic+json": {
              "type": "string"
            },
            "text/plain": [
              "'a'"
            ]
          },
          "metadata": {},
          "execution_count": 13
        }
      ]
    },
    {
      "cell_type": "markdown",
      "source": [
        "#### `521 // 5`\n",
        "\n",
        "What do you expect to happen?"
      ],
      "metadata": {
        "id": "2kCnvuRvVprG"
      }
    },
    {
      "cell_type": "markdown",
      "source": [
        "it will tell me how many times five goes into 521"
      ],
      "metadata": {
        "id": "QWOocovcV3i6"
      }
    },
    {
      "cell_type": "code",
      "source": [
        "521//5"
      ],
      "metadata": {
        "id": "n9QgKjHxV7oX",
        "colab": {
          "base_uri": "https://localhost:8080/"
        },
        "outputId": "926f8119-a323-4b6c-b9bc-7c1ce38c7988"
      },
      "execution_count": null,
      "outputs": [
        {
          "output_type": "execute_result",
          "data": {
            "text/plain": [
              "104"
            ]
          },
          "metadata": {},
          "execution_count": 14
        }
      ]
    }
  ]
}